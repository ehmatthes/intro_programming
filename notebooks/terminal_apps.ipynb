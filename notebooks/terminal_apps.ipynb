{
 "cells": [
  {
   "cell_type": "markdown",
   "metadata": {},
   "source": [
    "Basic Terminal Apps\n",
    "===\n",
    "By this point, you have learned enough Python to start building interactive apps. If you are set on the larger projects such as building a video game, making a visualization, or making a web app, you can skip this section. But if you would like to start building some simpler apps that run directly in your terminal, check out this notebook.\n",
    "\n",
    "Terminal apps are a great way to build the core functionality of a program you are interested in, which can then be extended into a more accessible format."
   ]
  },
  {
   "cell_type": "markdown",
   "metadata": {},
   "source": [
    "[Previous: While Loops and Input](http://nbviewer.ipython.org/urls/raw.github.com/ehmatthes/intro_programming/master/notebooks/while_input.ipynb) | \n",
    "[Home](http://nbviewer.ipython.org/urls/raw.github.com/ehmatthes/intro_programming/master/notebooks/index.ipynb) |\n",
    "[Next: Dictionaries](http://nbviewer.ipython.org/urls/raw.github.com/ehmatthes/intro_programming/master/notebooks/dictionaries.ipynb)"
   ]
  },
  {
   "cell_type": "markdown",
   "metadata": {},
   "source": [
    "Contents\n",
    "===\n",
    "- [What are terminal apps?](#What-are-terminal-apps?)\n",
    "    - [Why write terminal apps?](#Why-write-terminal-apps?)\n",
    "- [Greeter - A simple terminal app](#Greeter-A-simple-terminal-app)\n",
    "- [Clearing the screen](#Clearing-the-screen)\n",
    "    - [Exercises](#Exercises_clearing)\n",
    "- [A Persistent Title Bar](#A-Persistent-Title-Bar)\n",
    "    - [The `sleep()` function](#The-sleep%28%29-function)\n",
    "    - [A slowly disappearing title bar](#A-slowly-disappearing-title-bar)\n",
    "    - [Reducing repeated code](#Reducing-repeated-code)\n",
    "- [Building Greeter](#Building-greeter)\n",
    "    - [Basic Pickling](#Basic-Pickling)\n",
    "        - [Exercises](#Exercises-pickling)\n",
    "    - [Pickling in Greeter](#Pickling-in-Greeter)\n",
    "- [Overall Exercises](#Overall-Exercises)\n",
    "- [Overall Challenges](#Overall-Challenges)"
   ]
  },
  {
   "cell_type": "markdown",
   "metadata": {},
   "source": [
    "[top](#)"
   ]
  },
  {
   "cell_type": "markdown",
   "metadata": {},
   "source": [
    "What are terminal apps?\n",
    "===\n",
    "A terminal application is simply an application that runs inside the terminal. By now, you have seen that most of the output from your programs is printed to the terminal. By learning a few more techniques such as clearing the terminal screen and \"pickling\" data, you can create full-fledged standalone applications that run in the terminal.\n",
    "\n",
    "A terminal app starts just like any other program, but it finishes when the user selects an action that causes the program to quit. In terminal applications, this often means something like entering 'q' or 'quit'.\n",
    "\n",
    "If you are on a linux system, you can run some terminal apps right now. Many of these are not written in Python, but that doesn't matter. They are applications that run in the terminal, and you can write your own apps in Python. If you are on Linux, try the following:\n",
    "\n",
    "- Open a terminal and enter `top`.\n",
    "    - You will see a bunch of processes that are running on your system, sorted by which ones are using the most resources.\n",
    "    - You can press 'q' to quit this application.\n",
    "- Open a terminal and enter `nano test_file.txt`. \n",
    "    - This is a text editor that runs in the terminal. It is useful for quick edits.\n",
    "    - If you are editing files on a remote server, you need a terminal-based editor. Nano is one of the simplest.\n",
    "    - Press Ctrl-x to exit. If you have typed anything, you will be given the option to save your file.\n",
    "- Open a terminal and enter `vi`.\n",
    "    - This is another text editor. It is much less intuitive than nano at first, but once you learn how to use it you can edit files extremely quickly.\n",
    "    - Enter `:q` to exit.\n",
    "    \n",
    "There are quite a few other terminal apps. Let's figure out how to write some of our own."
   ]
  },
  {
   "cell_type": "markdown",
   "metadata": {},
   "source": [
    "Why write terminal apps?\n",
    "---\n",
    "Unless you see people working in technical fields on a regular basis, it's quite possible you have not seen many people using terminal applications. Even so, there are a number of reasons to consider writing a few terminal apps of your own.\n",
    "\n",
    "- **They can be much more fun and satisfying to write than simpler programs.**\n",
    "    - Applications, by their nature, solve interesting problems. When you write an application, you are creating an environment in which people work and play. That's pretty satisfying.\n",
    "- **Terminal apps let you play with complex code, without layers of abstraction between you and the user.**\n",
    "    - When you write more complex graphical applications, there are layers of abstraction between you and the user. To get input in a terminal, you issue the command `input(\"Please tell me some information: \")`. When you want some information in a graphical program, you have to build text boxes and buttons for submitting information. That has gotten pretty simple these days, but it is still more complicated than what you will do when writing terminal applications. Terminal applications let you focus on getting the logic right, rather than building a graphical interface.\n",
    "- **You will learn about user interaction issues.**\n",
    "    - Terminal apps do have users, even if that is just you, and maybe your friends or family. If you see people using your applications at an early stage, you will write better code. There is nothing like watching people use your programs to make you code more defensively. You know to enter a string in some places, but what keeps your users from entering numbers? Influencing your users to give you the right information the first time, and being prepared to deal with the wrong kind of data are good skills as a programmer. Having real users at an early stage in your programming career is a good thing."
   ]
  },
  {
   "cell_type": "markdown",
   "metadata": {},
   "source": [
    "[top](#)"
   ]
  },
  {
   "cell_type": "markdown",
   "metadata": {},
   "source": [
    "Greeter - A simple terminal app\n",
    "===\n",
    "Let's define a simple terminal app that we can make in this notebook. Greeter will:\n",
    "\n",
    "- Always display a title bar at the top of the screen, showing the name of the app that is running.\n",
    "- Offer you three choices:\n",
    "    - Enter a name.\n",
    "        - If the program knows that name, it will print a message saying something like \"Hello, old friend.\"\n",
    "        - If the program does not know that name, it will print a message saying something like, \"It's nice to meet you. I will remember you.\"\n",
    "            - The next time the program hears this name, it will greet the person as an old friend.\n",
    "    - See a list of everyone that is known.\n",
    "    - Quit.\n",
    "- The program will remember people, even after it closes.\n",
    "- The program may list the number of known people in the title bar.\n",
    "\n",
    "Now we will go over a few things we need to know in order to build this app, and then we will build it."
   ]
  },
  {
   "cell_type": "markdown",
   "metadata": {},
   "source": [
    "[top](#)"
   ]
  },
  {
   "cell_type": "markdown",
   "metadata": {},
   "source": [
    "Clearing the screen\n",
    "===\n",
    "You may have noticed that your programs which produce a lot of output scroll down the terminal. This keeps your program from looking like a running application. It's fairly easy to clear the terminal screen any time you want to, though.\n",
    "\n",
    "Let's make a really simple program to show this:"
   ]
  },
  {
   "cell_type": "code",
   "execution_count": 12,
   "metadata": {
    "collapsed": false
   },
   "outputs": [
    {
     "name": "stdout",
     "output_type": "stream",
     "text": [
      "I like climbing mountains.\n"
     ]
    }
   ],
   "source": [
    "# Show a simple message.\n",
    "print(\"I like climbing mountains.\")"
   ]
  },
  {
   "cell_type": "markdown",
   "metadata": {},
   "source": [
    "Now we will modify the program so that the screen is cleared right after the message is displayed:"
   ]
  },
  {
   "cell_type": "code",
   "execution_count": null,
   "metadata": {
    "collapsed": false
   },
   "outputs": [],
   "source": [
    "###highlight=[2,7,8]\n",
    "import os\n",
    "\n",
    "# Show a simple message.\n",
    "print(\"I like climbing mountains.\")\n",
    "\n",
    "# Clear the screen.\n",
    "os.system('clear')"
   ]
  },
  {
   "cell_type": "markdown",
   "metadata": {},
   "source": [
    "There is no output to show here, because as soon as the message is displayed the screen is cleared. Run the program on your computer to see this.\n",
    "\n",
    "The first line *imports* the **module** \"os\". This is a set of functions that let you interact with your operating system's commands. The line `os.system('clear')` tells Python to talk to the operating system, and ask the system to run the `clear` command. You can see this same thing by typing `clear` in any open terminal window.\n",
    "\n",
    "On a technical note, the screen is not actually erased when you enter the `clear` command. Instead, the terminal is scrolled down one vertical window length. If you scroll the terminal window up, you can see the old output. This is fine, and it can actually be good to be able to scroll back up and look at some output you might have missed.\n",
    "\n",
    "**On Windows:** The command to clear the terminal screen is different on Windows. The command `os.system('cls')` should work."
   ]
  },
  {
   "cell_type": "markdown",
   "metadata": {},
   "source": [
    "<a id=\"Exercises-clearing\"></a>\n",
    "Exercises\n",
    "---\n",
    "#### Simple Clear\n",
    "- Print one line to the screen.\n",
    "- Run your program to make sure the line actually prints.\n",
    "- Add a call to your system's \"clear\" command.\n",
    "- Run your program and make sure the line disappears.\n",
    "    - If it didn't work, make sure you have the line `import os` at the top of your file."
   ]
  },
  {
   "cell_type": "markdown",
   "metadata": {},
   "source": [
    "[top](#)"
   ]
  },
  {
   "cell_type": "markdown",
   "metadata": {},
   "source": [
    "A Persistent Title Bar\n",
    "===\n",
    "Let's consider how to make a title bar that stays at the top of the screen. We can't make this yet, because as our program creates more and more output, any title bar we print will disappear up the top of the screen.\n",
    "\n",
    "Now that we know how to clear the screen, we can rebuild the screen that our user sees any time we want. Let's start out by printing a title bar for Greeter. If you want to follow along, type out the following code and save it as `greeter.py`:"
   ]
  },
  {
   "cell_type": "code",
   "execution_count": 16,
   "metadata": {
    "collapsed": false
   },
   "outputs": [
    {
     "name": "stdout",
     "output_type": "stream",
     "text": [
      "\t**********************************************\n",
      "\t***  Greeter - Hello old and new friends!  ***\n",
      "\t**********************************************\n"
     ]
    }
   ],
   "source": [
    "# Greeter is a terminal application that greets old friends warmly,\n",
    "#   and remembers new friends.\n",
    "\n",
    "# Display a title bar.\n",
    "print(\"\\t**********************************************\")\n",
    "print(\"\\t***  Greeter - Hello old and new friends!  ***\")\n",
    "print(\"\\t**********************************************\")"
   ]
  },
  {
   "cell_type": "markdown",
   "metadata": {},
   "source": [
    "Everything is fine so far. Let's look at what happens when we have a bunch of output below the title bar. Copy the following code onto your machine and run it."
   ]
  },
  {
   "cell_type": "code",
   "execution_count": 11,
   "metadata": {
    "collapsed": false
   },
   "outputs": [],
   "source": [
    "###highlight=[10,11,12]\n",
    "# Greeter is a terminal application that greets old friends warmly,\n",
    "#   and remembers new friends.\n",
    "\n",
    "# Display a title bar.\n",
    "print(\"\\t**********************************************\")\n",
    "print(\"\\t***  Greeter - Hello old and new friends!  ***\")\n",
    "print(\"\\t**********************************************\")\n",
    "\n",
    "# Display a bunch of output, representing a long-running program.\n",
    "for x in range(0,51):\n",
    "    print(\"\\nWe have done %d fun and interesting things together!\" % x)"
   ]
  },
  {
   "cell_type": "markdown",
   "metadata": {},
   "source": [
    "I won't include the output here. All you should see are a number of lines about doing fun and interesting things together, with the title bar far up your terminal window, well above the visible portion. "
   ]
  },
  {
   "cell_type": "markdown",
   "metadata": {},
   "source": [
    "The `sleep()` function\n",
    "---\n",
    "Sometimes it is helpful to be able to pause a program for a moment. This can slow things down, and it can let us show output in intervals. Run this code on your own machine, and see if you can understand how it works:"
   ]
  },
  {
   "cell_type": "code",
   "execution_count": 7,
   "metadata": {
    "collapsed": false
   },
   "outputs": [
    {
     "name": "stdout",
     "output_type": "stream",
     "text": [
      "I'm going to sleep now.\n",
      "I woke up!\n"
     ]
    }
   ],
   "source": [
    "# Import the sleep function.\n",
    "from time import sleep\n",
    "\n",
    "print(\"I'm going to sleep now.\")\n",
    "\n",
    "# Sleep for 3 seconds.\n",
    "sleep(3)\n",
    "\n",
    "print(\"I woke up!\")"
   ]
  },
  {
   "cell_type": "markdown",
   "metadata": {},
   "source": [
    "If you ran this code, you should have seen the message \"I'm going to sleep now.\" Then you should have seen nothing happen for 3 seconds, and then you should have seen the message \"I woke up.\"\n",
    "\n",
    "The first line imports the *sleep()* function from the **module** *time*. You will be seeing more and more *import* statements. Basically, we are importing a function from Python's standard library of functions.\n",
    "\n",
    "The sleep function can accept decimal inputs as well, so you can pause for as short or as long in your programs as you want."
   ]
  },
  {
   "cell_type": "markdown",
   "metadata": {},
   "source": [
    "A slowly disappearing title bar\n",
    "---\n",
    "This time we are going to print out the title bar, but then we are going to print enough output that we start to lose the title bar. Run this code on your own machine to see the full effect:"
   ]
  },
  {
   "cell_type": "code",
   "execution_count": null,
   "metadata": {
    "collapsed": false
   },
   "outputs": [],
   "source": [
    "###highlight=[2,12,13,15,16,17,18,19,20,21,22]\n",
    "from time import sleep\n",
    "\n",
    "# Greeter is a terminal application that greets old friends warmly,\n",
    "#   and remembers new friends.\n",
    "\n",
    "# Display a title bar.\n",
    "print(\"\\t**********************************************\")\n",
    "print(\"\\t***  Greeter - Hello old and new friends!  ***\")\n",
    "print(\"\\t**********************************************\")\n",
    "\n",
    "# Print a bunch of information, in short intervals\n",
    "names = ['aaron', 'brenda', 'cyrene', 'david', 'eric']\n",
    "\n",
    "# Print each name 5 times.\n",
    "for name in names:\n",
    "    # Pause for 1 second between batches, and then skip two lines.\n",
    "    sleep(1)\n",
    "    print(\"\\n\\n\")\n",
    "    \n",
    "    for x in range(0,5):\n",
    "        print(name.title())"
   ]
  },
  {
   "cell_type": "markdown",
   "metadata": {},
   "source": [
    "You should have seen the title bar appear, and then groups of names appear every second for a while. At some point, the title bar probably disappeared. Now we are going to modify the code so that the screen is cleared each time through the loop."
   ]
  },
  {
   "cell_type": "code",
   "execution_count": null,
   "metadata": {
    "collapsed": false
   },
   "outputs": [],
   "source": [
    "###highlight=[3,18,19,20,21,22,23,24,25,26,27,28,29,30,31]\n",
    "from time import sleep\n",
    "import os\n",
    "\n",
    "# Greeter is a terminal application that greets old friends warmly,\n",
    "#   and remembers new friends.\n",
    "\n",
    "# Display a title bar.\n",
    "print(\"\\t**********************************************\")\n",
    "print(\"\\t***  Greeter - Hello old and new friends!  ***\")\n",
    "print(\"\\t**********************************************\")\n",
    "\n",
    "# Print a bunch of information, in short intervals\n",
    "names = ['aaron', 'brenda', 'cyrene', 'david', 'eric']\n",
    "\n",
    "# Print each name 5 times.\n",
    "for name in names:\n",
    "    # Clear the screen before listing names.\n",
    "    os.system('clear')\n",
    "    \n",
    "    # Display the title bar.\n",
    "    print(\"\\t**********************************************\")\n",
    "    print(\"\\t***  Greeter - Hello old and new friends!  ***\")\n",
    "    print(\"\\t**********************************************\")\n",
    "\n",
    "    print(\"\\n\\n\")\n",
    "    for x in range(0,5):\n",
    "        print(name.title())\n",
    "    \n",
    "    # Pause for 1 second between batches.\n",
    "    sleep(1)"
   ]
  },
  {
   "cell_type": "markdown",
   "metadata": {},
   "source": [
    "This time you should see the same output, but you should see a steady title bar, and the new information takes the place of the old information instead of being listed below the old output. We have a \"running\" application!"
   ]
  },
  {
   "cell_type": "markdown",
   "metadata": {},
   "source": [
    "Reducing repeated code\n",
    "---\n",
    "If you understood the section [Introducing Functions](introducing_functions), you may have noticed that we have some repeated code in the last program listing. Any time you see a significant amount of repetition, you can probably introduce a function.\n",
    "\n",
    "The repeated code in this example involves displaying the title bar. Let's write a function to show the title bar."
   ]
  },
  {
   "cell_type": "code",
   "execution_count": null,
   "metadata": {
    "collapsed": false
   },
   "outputs": [],
   "source": [
    "###highlight=[8,9,10,11,12,13,14,22]\n",
    "from time import sleep\n",
    "import os\n",
    "\n",
    "# Greeter is a terminal application that greets old friends warmly,\n",
    "#   and remembers new friends.\n",
    "\n",
    "def display_title_bar():\n",
    "    # Clears the terminal screen, and displays a title bar.\n",
    "    os.system('clear')\n",
    "              \n",
    "    print(\"\\t**********************************************\")\n",
    "    print(\"\\t***  Greeter - Hello old and new friends!  ***\")\n",
    "    print(\"\\t**********************************************\")\n",
    "    \n",
    "\n",
    "# Print a bunch of information, in short intervals\n",
    "names = ['aaron', 'brenda', 'cyrene', 'david', 'eric']\n",
    "\n",
    "# Print each name 5 times.\n",
    "for name in names:\n",
    "    display_title_bar()\n",
    "\n",
    "    print(\"\\n\\n\")\n",
    "    for x in range(0,5):\n",
    "        print(name.title())\n",
    "    \n",
    "    # Pause for 1 second between batches.\n",
    "    sleep(1)"
   ]
  },
  {
   "cell_type": "markdown",
   "metadata": {},
   "source": [
    "Again, you really need to copy this code onto your own machine and run it locally to see this in action. You should see the same behavior as before.\n",
    "\n",
    "It's interesting to note that having good comments makes writing functions easier. The comment just before the code for displaying the title bar was \"Display the title bar.\" This practically gives us a name for the function that will take over this job: `display_title_bar`. If we use short, descriptive function names that tell us exactly what the function does, it becomes much easier to follow what is happening in the program. We can see that we don't even need a comment when the function is called, because the function name itself is so informative. The name `display_title_bar` is much better than something like `title`, although you don't want to go overboard with a name such as `clear_screen_and_display_title_bar`.\n",
    "\n",
    "This code gets a bit hard to read overall though, because we have several sections of code. You can use comments to visually break up your programs. Here's what that can look like in our current program:"
   ]
  },
  {
   "cell_type": "code",
   "execution_count": null,
   "metadata": {
    "collapsed": false
   },
   "outputs": [],
   "source": [
    "###highlight=[9,20]\n",
    "from time import sleep\n",
    "import os\n",
    "\n",
    "# Greeter is a terminal application that greets old friends warmly,\n",
    "#   and remembers new friends.\n",
    "\n",
    "\n",
    "### FUNCTIONS ###\n",
    "\n",
    "def display_title_bar():\n",
    "    # Clears the terminal screen, and displays a title bar.\n",
    "    os.system('clear')\n",
    "              \n",
    "    print(\"\\t**********************************************\")\n",
    "    print(\"\\t***  Greeter - Hello old and new friends!  ***\")\n",
    "    print(\"\\t**********************************************\")\n",
    "    \n",
    "\n",
    "### MAIN PROGRAM ###    \n",
    "\n",
    "# Print a bunch of information, in short intervals\n",
    "names = ['aaron', 'brenda', 'cyrene', 'david', 'eric']\n",
    "\n",
    "# Print each name 5 times.\n",
    "for name in names:\n",
    "    display_title_bar()\n",
    "\n",
    "    print(\"\\n\\n\")\n",
    "    for x in range(0,5):\n",
    "        print(name.title())\n",
    "    \n",
    "    # Pause for 1 second between batches.\n",
    "    sleep(1)"
   ]
  },
  {
   "cell_type": "markdown",
   "metadata": {},
   "source": [
    "If this is more appealing visually to you, feel free to use these kind of \"section header\" comments in your longer programs."
   ]
  },
  {
   "cell_type": "markdown",
   "metadata": {},
   "source": [
    "[top](#)"
   ]
  },
  {
   "cell_type": "markdown",
   "metadata": {},
   "source": [
    "Building Greeter\n",
    "===\n",
    "Let's continue building Greeter. There are a couple more things we will introduce, but you should be able to follow everything we do.\n",
    "\n",
    "We will start with the previous part where we have a persistent title bar, but we will remove the sleep functions. We will begin by offering users the choice to see a list of names, or enter a new name."
   ]
  },
  {
   "cell_type": "code",
   "execution_count": null,
   "metadata": {
    "collapsed": false
   },
   "outputs": [],
   "source": [
    "###highlight=[2,21,22,23,24,25,26,27,28,29,30,31,32,33,34,35,36,37,38,39,40,41]\n",
    "import os\n",
    "\n",
    "# Greeter is a terminal application that greets old friends warmly,\n",
    "#   and remembers new friends.\n",
    "\n",
    "\n",
    "### FUNCTIONS ###\n",
    "\n",
    "def display_title_bar():\n",
    "    # Clears the terminal screen, and displays a title bar.\n",
    "    os.system('clear')\n",
    "              \n",
    "    print(\"\\t**********************************************\")\n",
    "    print(\"\\t***  Greeter - Hello old and new friends!  ***\")\n",
    "    print(\"\\t**********************************************\")\n",
    "    \n",
    "\n",
    "### MAIN PROGRAM ###\n",
    "\n",
    "# Set up a loop where users can choose what they'd like to do.\n",
    "choice = ''\n",
    "while choice != 'q':    \n",
    "    display_title_bar()\n",
    "    \n",
    "    # Let users know what they can do.\n",
    "    print(\"\\n[1] See a list of friends.\")\n",
    "    print(\"[2] Tell me about someone new.\")\n",
    "    print(\"[q] Quit.\")\n",
    "    \n",
    "    choice = input(\"What would you like to do? \")\n",
    "    \n",
    "    # Respond to the user's choice.\n",
    "    if choice == '1':\n",
    "        print(\"\\nHere are the people I know.\\n\")\n",
    "    elif choice == '2':\n",
    "        print(\"\\nI can't wait to meet this person!\\n\")\n",
    "    elif choice == 'q':\n",
    "        print(\"\\nThanks for playing. Bye.\")\n",
    "    else:\n",
    "        print(\"\\nI didn't understand that choice.\\n\")"
   ]
  },
  {
   "cell_type": "markdown",
   "metadata": {},
   "source": [
    "If you run this code, you will see that it doesn't quite work. There are no Python errors, but the logic is a little off. We can enter choices, but the call to `display_title_bar()` at the beginning of the loop clears the screen as soon as the output is printed.\n",
    "\n",
    "We can fix this by moving the call to `display_title_bar()`, and putting it in two places. We call `display_title_bar()` once just before we enter the loop, when the program starts running. But we also call it right after the user makes a choice, and before we respond to that choice:"
   ]
  },
  {
   "cell_type": "code",
   "execution_count": null,
   "metadata": {
    "collapsed": false
   },
   "outputs": [],
   "source": [
    "###highlight=[23,34]\n",
    "import os\n",
    "\n",
    "# Greeter is a terminal application that greets old friends warmly,\n",
    "#   and remembers new friends.\n",
    "\n",
    "\n",
    "### FUNCTIONS ###\n",
    "\n",
    "def display_title_bar():\n",
    "    # Clears the terminal screen, and displays a title bar.\n",
    "    os.system('clear')\n",
    "              \n",
    "    print(\"\\t**********************************************\")\n",
    "    print(\"\\t***  Greeter - Hello old and new friends!  ***\")\n",
    "    print(\"\\t**********************************************\")\n",
    "    \n",
    "\n",
    "### MAIN PROGRAM ###\n",
    "\n",
    "# Set up a loop where users can choose what they'd like to do.\n",
    "choice = ''\n",
    "display_title_bar()\n",
    "while choice != 'q':    \n",
    "    \n",
    "    # Let users know what they can do.\n",
    "    print(\"\\n[1] See a list of friends.\")\n",
    "    print(\"[2] Tell me about someone new.\")\n",
    "    print(\"[q] Quit.\")\n",
    "    \n",
    "    choice = input(\"What would you like to do? \")\n",
    "    \n",
    "    # Respond to the user's choice.\n",
    "    display_title_bar()\n",
    "    if choice == '1':\n",
    "        print(\"\\nHere are the people I know.\\n\")\n",
    "    elif choice == '2':\n",
    "        print(\"\\nI can't wait to meet this person!\\n\")\n",
    "    elif choice == 'q':\n",
    "        print(\"\\nThanks for playing. Bye.\")\n",
    "    else:\n",
    "        print(\"\\nI didn't understand that choice.\\n\")"
   ]
  },
  {
   "cell_type": "markdown",
   "metadata": {},
   "source": [
    "This works, so let's put the menu into a function:"
   ]
  },
  {
   "cell_type": "code",
   "execution_count": null,
   "metadata": {
    "collapsed": false
   },
   "outputs": [],
   "source": [
    "###highlight=[18,19,20,21,22,23,24,34]\n",
    "import os\n",
    "\n",
    "# Greeter is a terminal application that greets old friends warmly,\n",
    "#   and remembers new friends.\n",
    "\n",
    "\n",
    "### FUNCTIONS ###\n",
    "\n",
    "def display_title_bar():\n",
    "    # Clears the terminal screen, and displays a title bar.\n",
    "    os.system('clear')\n",
    "              \n",
    "    print(\"\\t**********************************************\")\n",
    "    print(\"\\t***  Greeter - Hello old and new friends!  ***\")\n",
    "    print(\"\\t**********************************************\")\n",
    "    \n",
    "def get_user_choice():\n",
    "    # Let users know what they can do.\n",
    "    print(\"\\n[1] See a list of friends.\")\n",
    "    print(\"[2] Tell me about someone new.\")\n",
    "    print(\"[q] Quit.\")\n",
    "    \n",
    "    return input(\"What would you like to do? \")\n",
    "    \n",
    "\n",
    "### MAIN PROGRAM ###\n",
    "\n",
    "# Set up a loop where users can choose what they'd like to do.\n",
    "choice = ''\n",
    "display_title_bar()\n",
    "while choice != 'q':    \n",
    "    \n",
    "    choice = get_user_choice()\n",
    "    \n",
    "    # Respond to the user's choice.\n",
    "    display_title_bar()\n",
    "    if choice == '1':\n",
    "        print(\"\\nHere are the people I know.\\n\")\n",
    "    elif choice == '2':\n",
    "        print(\"\\nI can't wait to meet this person!\\n\")\n",
    "    elif choice == 'q':\n",
    "        print(\"\\nThanks for playing. Bye.\")\n",
    "    else:\n",
    "        print(\"\\nI didn't understand that choice.\\n\")\n"
   ]
  },
  {
   "cell_type": "markdown",
   "metadata": {},
   "source": [
    "Now, let's make it so that the program actually does something.\n",
    "\n",
    "- We will make an empty list to store names.\n",
    "- We will print names from this list in choice 1.\n",
    "- We will get a new name in choice 2.\n",
    "    - We will store that new name in the list of names."
   ]
  },
  {
   "cell_type": "code",
   "execution_count": null,
   "metadata": {
    "collapsed": false
   },
   "outputs": [],
   "source": [
    "###highlight=[28,29,42,43,45,46,47]\n",
    "import os\n",
    "\n",
    "# Greeter is a terminal application that greets old friends warmly,\n",
    "#   and remembers new friends.\n",
    "\n",
    "\n",
    "### FUNCTIONS ###\n",
    "\n",
    "def display_title_bar():\n",
    "    # Clears the terminal screen, and displays a title bar.\n",
    "    os.system('clear')\n",
    "              \n",
    "    print(\"\\t**********************************************\")\n",
    "    print(\"\\t***  Greeter - Hello old and new friends!  ***\")\n",
    "    print(\"\\t**********************************************\")\n",
    "    \n",
    "def get_user_choice():\n",
    "    # Let users know what they can do.\n",
    "    print(\"\\n[1] See a list of friends.\")\n",
    "    print(\"[2] Tell me about someone new.\")\n",
    "    print(\"[q] Quit.\")\n",
    "    \n",
    "    return input(\"What would you like to do? \")\n",
    "    \n",
    "\n",
    "### MAIN PROGRAM ###\n",
    "\n",
    "# Set up a loop where users can choose what they'd like to do.\n",
    "names = []\n",
    "\n",
    "choice = ''\n",
    "display_title_bar()\n",
    "while choice != 'q':    \n",
    "    \n",
    "    choice = get_user_choice()\n",
    "    \n",
    "    # Respond to the user's choice.\n",
    "    display_title_bar()\n",
    "    if choice == '1':\n",
    "        print(\"\\nHere are the people I know.\\n\")\n",
    "        for name in names:\n",
    "            print(name.title())\n",
    "    elif choice == '2':\n",
    "        new_name = input(\"\\nPlease tell me this person's name: \")\n",
    "        names.append(new_name)\n",
    "        print(\"\\nI'm so happy to know %s!\\n\" % new_name.title())\n",
    "    elif choice == 'q':\n",
    "        print(\"\\nThanks for playing. Bye.\")\n",
    "    else:\n",
    "        print(\"\\nI didn't understand that choice.\\n\")"
   ]
  },
  {
   "cell_type": "markdown",
   "metadata": {},
   "source": [
    "If you run this program, you will see that it works mostly as its supposed to. But the code in lines 37-50, where we are responding to the user's choice, is starting to get crowded. Let's move the code for choice 1 and choice 2 into separate functions:"
   ]
  },
  {
   "cell_type": "code",
   "execution_count": null,
   "metadata": {
    "collapsed": false
   },
   "outputs": [],
   "source": [
    "###highlight=[26,27,28,29,30,32,33,34,35,36,52,54]\n",
    "import os\n",
    "\n",
    "# Greeter is a terminal application that greets old friends warmly,\n",
    "#   and remembers new friends.\n",
    "\n",
    "\n",
    "### FUNCTIONS ###\n",
    "\n",
    "def display_title_bar():\n",
    "    # Clears the terminal screen, and displays a title bar.\n",
    "    os.system('clear')\n",
    "              \n",
    "    print(\"\\t**********************************************\")\n",
    "    print(\"\\t***  Greeter - Hello old and new friends!  ***\")\n",
    "    print(\"\\t**********************************************\")\n",
    "    \n",
    "def get_user_choice():\n",
    "    # Let users know what they can do.\n",
    "    print(\"\\n[1] See a list of friends.\")\n",
    "    print(\"[2] Tell me about someone new.\")\n",
    "    print(\"[q] Quit.\")\n",
    "    \n",
    "    return input(\"What would you like to do? \")\n",
    "    \n",
    "def show_names():\n",
    "    # Shows the names of everyone who is already in the list.\n",
    "    print(\"\\nHere are the people I know.\\n\")\n",
    "    for name in names:\n",
    "        print(name.title())\n",
    "        \n",
    "def get_new_name():\n",
    "    # Asks the user for a new name, and stores the name.\n",
    "    new_name = input(\"\\nPlease tell me this person's name: \")\n",
    "    names.append(new_name)\n",
    "    print(\"\\nI'm so happy to know %s!\\n\" % new_name.title())\n",
    "\n",
    "### MAIN PROGRAM ###\n",
    "\n",
    "# Set up a loop where users can choose what they'd like to do.\n",
    "names = []\n",
    "\n",
    "choice = ''\n",
    "display_title_bar()\n",
    "while choice != 'q':    \n",
    "    \n",
    "    choice = get_user_choice()\n",
    "    \n",
    "    # Respond to the user's choice.\n",
    "    display_title_bar()\n",
    "    if choice == '1':\n",
    "        show_names()\n",
    "    elif choice == '2':\n",
    "        get_new_name()\n",
    "    elif choice == 'q':\n",
    "        print(\"\\nThanks for playing. Bye.\")\n",
    "    else:\n",
    "        print(\"\\nI didn't understand that choice.\\n\")"
   ]
  },
  {
   "cell_type": "markdown",
   "metadata": {},
   "source": [
    "This code doesn't behave any differently, but the main program itself is much easier to read. Lines 48-57 are a clean series of if-elif-else statements, each of which has a clear action.\n",
    "\n",
    "Putting each action into its own function also lets us focus on improving that action. If you look at the function `get_new_name()`, you might notice that we are storing the name without checking anything about it. Let's put in a simple check to make sure we don't already know about this person."
   ]
  },
  {
   "cell_type": "code",
   "execution_count": null,
   "metadata": {
    "collapsed": false
   },
   "outputs": [],
   "source": [
    "###highlight=[36,37,38,39,40]\n",
    "import os\n",
    "\n",
    "# Greeter is a terminal application that greets old friends warmly,\n",
    "#   and remembers new friends.\n",
    "\n",
    "\n",
    "### FUNCTIONS ###\n",
    "\n",
    "def display_title_bar():\n",
    "    # Clears the terminal screen, and displays a title bar.\n",
    "    os.system('clear')\n",
    "              \n",
    "    print(\"\\t**********************************************\")\n",
    "    print(\"\\t***  Greeter - Hello old and new friends!  ***\")\n",
    "    print(\"\\t**********************************************\")\n",
    "    \n",
    "def get_user_choice():\n",
    "    # Let users know what they can do.\n",
    "    print(\"\\n[1] See a list of friends.\")\n",
    "    print(\"[2] Tell me about someone new.\")\n",
    "    print(\"[q] Quit.\")\n",
    "    \n",
    "    return input(\"What would you like to do? \")\n",
    "    \n",
    "def show_names():\n",
    "    # Shows the names of everyone who is already in the list.\n",
    "    print(\"\\nHere are the people I know.\\n\")\n",
    "    for name in names:\n",
    "        print(name.title())\n",
    "        \n",
    "def get_new_name():\n",
    "    # Asks the user for a new name, and stores the name if we don't already\n",
    "    #  know about this person.\n",
    "    new_name = input(\"\\nPlease tell me this person's name: \")\n",
    "    if new_name in names:\n",
    "        print(\"\\n%s is an old friend! Thank you, though.\" % new_name.title())\n",
    "    else:\n",
    "        names.append(new_name)\n",
    "        print(\"\\nI'm so happy to know %s!\\n\" % new_name.title())\n",
    "\n",
    "### MAIN PROGRAM ###\n",
    "\n",
    "# Set up a loop where users can choose what they'd like to do.\n",
    "names = []\n",
    "\n",
    "choice = ''\n",
    "display_title_bar()\n",
    "while choice != 'q':    \n",
    "    \n",
    "    choice = get_user_choice()\n",
    "    \n",
    "    # Respond to the user's choice.\n",
    "    display_title_bar()\n",
    "    if choice == '1':\n",
    "        show_names()\n",
    "    elif choice == '2':\n",
    "        get_new_name()\n",
    "    elif choice == 'q':\n",
    "        print(\"\\nThanks for playing. Bye.\")\n",
    "    else:\n",
    "        print(\"\\nI didn't understand that choice.\\n\")"
   ]
  },
  {
   "cell_type": "markdown",
   "metadata": {},
   "source": [
    "This works well. Now the program only stores new names, and names that are already in the list are greeted as old friends.\n",
    "\n",
    "It's interesting to note that you can run this program through [python tutor](http://pythontutor.com/visualize.html#mode=edit), and step through each line of the code. It's pretty enlightening to see exactly how the Python interpreter steps through a program like this. You can see all of the jumps from the main program to each of the functions, and the change in flow when the user makes a particular choice. It's informative to see which lines are skipped when certain if tests pass or fail.\n",
    "\n",
    "There is one last thing we'd like Greeter to do, to consider it a basic terminal app. Let's make it remember the list of names after the program closes. To do this, let's learn about *pickling* using a simpler example."
   ]
  },
  {
   "cell_type": "markdown",
   "metadata": {},
   "source": [
    "[top](#)"
   ]
  },
  {
   "cell_type": "markdown",
   "metadata": {},
   "source": [
    "Basic Pickling\n",
    "---\n",
    "When we \"pickle\" something in the physical world, we soak it in salt and vinegar so it won't rot. \"Pickling\" an object in Python packages it up and stores it on disk in a way that we can get it back in its original form later. You don't want to use `pickle` for important data, but it's a good way to get started with storing data after your program closes.\n",
    "\n",
    "Here is a simple program that asks the user for some input, and then stores the input in a list. The program dumps the list to a file using `pickle`, and the next time the program runs it loads that data back in. Run this program on your computer, and see if it works for you."
   ]
  },
  {
   "cell_type": "code",
   "execution_count": null,
   "metadata": {
    "collapsed": false
   },
   "outputs": [],
   "source": [
    "import pickle\n",
    "\n",
    "# This program asks the user for some animals, and stores them.\n",
    "\n",
    "# Make an empty list to store new animals in.\n",
    "animals = []\n",
    "\n",
    "# Create a loop that lets users store new animals.\n",
    "new_animal = ''\n",
    "while new_animal != 'quit':\n",
    "    print(\"\\nPlease tell me a new animal to remember.\")\n",
    "    new_animal = input(\"Enter 'quit' to quit: \")\n",
    "    if new_animal != 'quit':\n",
    "        animals.append(new_animal)\n",
    "\n",
    "# Try to save the animals to the file 'animals.pydata'.\n",
    "try:\n",
    "    file_object = open('animals.pydata', 'wb')\n",
    "    pickle.dump(animals, file_object)\n",
    "    file_object.close()\n",
    "    \n",
    "    print(\"\\nI will remember the following animals: \")\n",
    "    for animal in animals:\n",
    "        print(animal)\n",
    "except Exception as e:\n",
    "    print(e)\n",
    "    print(\"\\nI couldn't figure out how to store the animals. Sorry.\")"
   ]
  },
  {
   "cell_type": "markdown",
   "metadata": {},
   "source": [
    "This program uses three new things:\n",
    "\n",
    "- **A `try-except` block.**\n",
    "    - A try-except block is used when you think a section of code might create an error. If an error occurs in a try block, the program does not end. Instead, program execution drops into the except block.\n",
    "    - In this case, we try to open a file to write out a list of animals.\n",
    "    - If the file can not be opened for some reason, for example because the program doesn't have permission to create a new file, then the program drops to the `except` block.\n",
    "        - In this case, we print the actual error message and a friendlier message of our own.\n",
    "- **Opening and closing files.**\n",
    "    - Line 33 tries to open the file 'animals.pydata'.\n",
    "        - Line 33 tells Python to open the file for writing. The 'b' argument tells Python to write the file in bytes.\n",
    "        - If successful, the open file can be used through the *file_object* variable.\n",
    "        - If the file does not yet exist, this line creates the file, in the same directory as the program.\n",
    "    - Line 35 closes the file once we are finished working with it.\n",
    "- **A call to `pickle.dump()`.**\n",
    "    - Line 34 'dumps' the list animals into the file that was opened. (It is not dumped in a format that we can read.)\n",
    "    \n",
    "**Note:** This may work slightly differently in Python 2, and on Windows or Mac. This notebook will be updated to include those specific differences.\n",
    "\n",
    "When you run this program on your computer, look for the file *animals.pydata* in the same directory as the program file. If that worked, we need to modify the program so that the next time it runs it loads the data from *animals.pydata* back in.\n",
    "\n",
    "We do that with a try-except block at the beginning of the program, which tries to open the file and read the data back into the `animals` list. If that doesn't work, which will happen when the program is run for the first time or if you delete *animals.pydata*, we make the same empty list we had before."
   ]
  },
  {
   "cell_type": "code",
   "execution_count": null,
   "metadata": {
    "collapsed": false
   },
   "outputs": [],
   "source": [
    "###highlight=[9,10,11,12,13,14]\n",
    "import pickle\n",
    "\n",
    "# This program asks the user for some animals, and stores them.\n",
    "#  It loads animals if they exist.\n",
    "\n",
    "# Try to load animals. If they don't exist, make an empty list\n",
    "#  to store new animals in.\n",
    "try:\n",
    "    file_object = open('animals.pydata', 'rb')\n",
    "    animals = pickle.load(file_object)\n",
    "    file_object.close()\n",
    "except:\n",
    "    animals = []\n",
    "\n",
    "# Show the animals that are stored so far.\n",
    "if len(animals) > 0:\n",
    "    print(\"I know the following animals: \")\n",
    "    for animal in animals:\n",
    "        print(animal)\n",
    "else:\n",
    "    print(\"I don't know any animals yet.\")\n",
    "\n",
    "# Create a loop that lets users store new animals.\n",
    "new_animal = ''\n",
    "while new_animal != 'quit':\n",
    "    print(\"\\nPlease tell me a new animal to remember.\")\n",
    "    new_animal = input(\"Enter 'quit' to quit: \")\n",
    "    if new_animal != 'quit':\n",
    "        animals.append(new_animal)\n",
    "\n",
    "# Try to save the animals to the file 'animals.pydata'.\n",
    "try:\n",
    "    file_object = open('animals.pydata', 'wb')\n",
    "    pickle.dump(animals, file_object)\n",
    "    file_object.close()\n",
    "    \n",
    "    print(\"\\nI will remember the following animals: \")\n",
    "    for animal in animals:\n",
    "        print(animal)\n",
    "except Exception as e:\n",
    "    print(e)\n",
    "    print(\"\\nI couldn't figure out how to store the animals. Sorry.\")"
   ]
  },
  {
   "cell_type": "markdown",
   "metadata": {},
   "source": [
    "The new try-except block at the beginning of the file works like this:\n",
    "    - It tries to open a file to read in a list of animals.\n",
    "    - If the file exists, animals will contain the previously stored list.\n",
    "    - If the file does not exist, line 9 will create an error, which would normally end the program.\n",
    "    - Instead, the program drops to the except block, where an empty list is created.\n",
    "    \n",
    "Now the program should just build a cumulative list of animals every time it is run. This is our first example of **persistent** data, data that lasts even after our program stops running.\n",
    "\n",
    "Now let's use these concepts to finish Greeter."
   ]
  },
  {
   "cell_type": "markdown",
   "metadata": {},
   "source": [
    "[top](#)"
   ]
  },
  {
   "cell_type": "markdown",
   "metadata": {},
   "source": [
    "<a id=\"Exercises-pickling\"></a>\n",
    "Exercises\n",
    "---\n",
    "#### Pickling Games\n",
    "- Write a program that lets users enter a number of different games.\n",
    "- Save the games to disk, using pickle, before the program closes.\n",
    "- Load the games from the saved file at the beginning of your program."
   ]
  },
  {
   "cell_type": "markdown",
   "metadata": {},
   "source": [
    "[top](#)"
   ]
  },
  {
   "cell_type": "markdown",
   "metadata": {},
   "source": [
    "Pickling in Greeter\n",
    "---\n",
    "We really just have a little left to do in order to finish Greeter. We need to dump the list of names before the program ends, and we need to load that list of names when the program starts. Let's do this by creating two new functions:\n",
    "\n",
    "- The function `load_names()` will load the names from a file when the program first starts. This function will be called before the main loop begins.\n",
    "- The function `quit()` will dump the names into a file just before the program ends."
   ]
  },
  {
   "cell_type": "code",
   "execution_count": null,
   "metadata": {
    "collapsed": false
   },
   "outputs": [],
   "source": [
    "###highlight=[43,44,45,46,47,48,49,50,51,52,53,55,56,57,58,59,60,61,62,63,64,69,84]\n",
    "import os\n",
    "import pickle\n",
    "\n",
    "# Greeter is a terminal application that greets old friends warmly,\n",
    "#   and remembers new friends.\n",
    "\n",
    "\n",
    "### FUNCTIONS ###\n",
    "\n",
    "def display_title_bar():\n",
    "    # Clears the terminal screen, and displays a title bar.\n",
    "    os.system('clear')\n",
    "              \n",
    "    print(\"\\t**********************************************\")\n",
    "    print(\"\\t***  Greeter - Hello old and new friends!  ***\")\n",
    "    print(\"\\t**********************************************\")\n",
    "    \n",
    "def get_user_choice():\n",
    "    # Let users know what they can do.\n",
    "    print(\"\\n[1] See a list of friends.\")\n",
    "    print(\"[2] Tell me about someone new.\")\n",
    "    print(\"[q] Quit.\")\n",
    "    \n",
    "    return input(\"What would you like to do? \")\n",
    "    \n",
    "def show_names():\n",
    "    # Shows the names of everyone who is already in the list.\n",
    "    print(\"\\nHere are the people I know.\\n\")\n",
    "    for name in names:\n",
    "        print(name.title())\n",
    "        \n",
    "def get_new_name():\n",
    "    # Asks the user for a new name, and stores the name if we don't already\n",
    "    #  know about this person.\n",
    "    new_name = input(\"\\nPlease tell me this person's name: \")\n",
    "    if new_name in names:\n",
    "        print(\"\\n%s is an old friend! Thank you, though.\" % new_name.title())\n",
    "    else:\n",
    "        names.append(new_name)\n",
    "        print(\"\\nI'm so happy to know %s!\\n\" % new_name.title())\n",
    "        \n",
    "def load_names():\n",
    "    # This function loads names from a file, and puts them in the list 'names'.\n",
    "    #  If the file doesn't exist, it creates an empty list.\n",
    "    try:\n",
    "        file_object = open('names.pydata', 'rb')\n",
    "        names = pickle.load(file_object)\n",
    "        file_object.close()\n",
    "        return names\n",
    "    except Exception as e:\n",
    "        print(e)\n",
    "        return []\n",
    "        \n",
    "def quit():\n",
    "    # This function dumps the names into a file, and prints a quit message.\n",
    "    try:\n",
    "        file_object = open('names.pydata', 'wb')\n",
    "        pickle.dump(names, file_object)\n",
    "        file_object.close()\n",
    "        print(\"\\nThanks for playing. I will remember these good friends.\")\n",
    "    except Exception as e:\n",
    "        print(\"\\nThanks for playing. I won't be able to remember these names.\")\n",
    "        print(e)\n",
    "        \n",
    "### MAIN PROGRAM ###\n",
    "\n",
    "# Set up a loop where users can choose what they'd like to do.\n",
    "names = load_names()\n",
    "\n",
    "choice = ''\n",
    "display_title_bar()\n",
    "while choice != 'q':    \n",
    "    \n",
    "    choice = get_user_choice()\n",
    "    \n",
    "    # Respond to the user's choice.\n",
    "    display_title_bar()\n",
    "    if choice == '1':\n",
    "        show_names()\n",
    "    elif choice == '2':\n",
    "        get_new_name()\n",
    "    elif choice == 'q':\n",
    "        quit()\n",
    "        print(\"\\nThanks for playing. Bye.\")\n",
    "    else:\n",
    "        print(\"\\nI didn't understand that choice.\\n\")"
   ]
  },
  {
   "cell_type": "markdown",
   "metadata": {},
   "source": [
    "We now have a long-running, standalone terminal application. It doesn't do a whole lot, but it shows the basic structure for creating terminal apps of your own. If you expand the list of choices and keep your code organized into clean, simple functions, you now know enough to make some pretty interesting programs."
   ]
  },
  {
   "cell_type": "markdown",
   "metadata": {},
   "source": [
    "[top](#)"
   ]
  },
  {
   "cell_type": "markdown",
   "metadata": {},
   "source": [
    "Overall Exercises\n",
    "===\n",
    "#### Favorite Games\n",
    "- Write a terminal app that asks people for their favorite games.\n",
    "- Your app should offer users the choice of:\n",
    "    - Seeing all current games that are stored.\n",
    "    - Entering a new game.\n",
    "        - If the game is already stored, don't store it. Inform the user that you know that game, and like it too.\n",
    "        - If the game is not already stored, store it and tell the user you are happy to learn about that game.\n",
    "    - Quit.\n",
    "        - Your app should store all games when the program quits, so that it remembers all the games the next time it runs.\n",
    "- Bonus: Add a \"stats\" element in your title bar that shows how many games are currently stored."
   ]
  },
  {
   "cell_type": "markdown",
   "metadata": {},
   "source": [
    "[top](#)"
   ]
  },
  {
   "cell_type": "markdown",
   "metadata": {},
   "source": [
    "Overall Challenges\n",
    "===\n",
    "#### Hangman\n",
    "- If it's been a while since you played Hangman, play it with someone first.\n",
    "    - Play both sides, so you remember how it feels as a player and as the person making up the word.\n",
    "- Write a terminal app that replicates Hangman.\n",
    "- [hints](#hints_hangman)\n",
    "\n",
    "#### Abacus\n",
    "- The following text could be used to represent the number 1972 on an abacus:\n",
    "    - |xxxxxxxx------xx|\n",
    "    - |xxx------xxxxxxx|\n",
    "    - |x------xxxxxxxxx|\n",
    "    - |xxxxxxxxx------x|\n",
    "- Write a terminal app that asks the user for a number, and then displays that number on a simple abacus.\n",
    "- [hints](#hints_abacus)"
   ]
  },
  {
   "cell_type": "markdown",
   "metadata": {},
   "source": [
    "[top](#)"
   ]
  },
  {
   "cell_type": "markdown",
   "metadata": {},
   "source": [
    "[Previous: While Loops and Input](http://nbviewer.ipython.org/urls/raw.github.com/ehmatthes/intro_programming/master/notebooks/while_input.ipynb) | \n",
    "[Home](http://nbviewer.ipython.org/urls/raw.github.com/ehmatthes/intro_programming/master/notebooks/index.ipynb) |\n",
    "[Next: Dictionaries](http://nbviewer.ipython.org/urls/raw.github.com/ehmatthes/intro_programming/master/notebooks/dictionaries.ipynb)"
   ]
  },
  {
   "cell_type": "markdown",
   "metadata": {},
   "source": [
    "Hints\n",
    "===\n",
    "####Hangman\n",
    "- Print a line that identifies the game people are playing.\n",
    "- Store a list of words that can be chosen from.\n",
    "- Make a for loop that runs through the words in the list.\n",
    "    - Bonus: learn about [randomly selecting an item from a list](http://stackoverflow.com/questions/306400/how-do-i-randomly-select-an-item-from-a-list-using-python), and choose the next word randomly.\n",
    "- Print a series of underscores, showing how many letters are in the word.\n",
    "- Ask the user for a letter.\n",
    "- Use an if statement to either place the appropriate letters over the underscores, or to add a part to a text-based hangman.\n",
    "- Keep track of the guesses that have been made, and when too many wrong guesses have been made, print a message that the game is over.\n",
    "- Place your entire game inside of a while loop, with an option for the user to enter a value that will make the loop fail.\n",
    "\n",
    "####Abacus\n",
    "- Print a line that identifies the application that is running.\n",
    "- Ask the user for a number between 1 and 9999.\n",
    "- There are some mathematical ways to get each digit in the number. If you know can use any of these methods on paper, feel free to try to code them. But you can just treat the number as a string, and use a for loop to get each number in turn. You may have to turn the number into a string first.\n",
    "- Use each digit, along with the range function, to print the appropriate number of beads on each line of the abacus.\n",
    "    - You can use subtraction to figure out how many beads to put on the other side of the abacus.\n",
    "    - You may need to turn each digit back into a number before you can use the range function.\n",
    "    - If your for loop prints each bead on a separate line, store your beads in a variable. Rather than printing all beads out immediately, add them to the string representing the bar on the abacus. Then print the abacus bar out all at once.\n",
    "        - `abacus_bar = ''`\n",
    "        - `for...`\n",
    "        -     `abacus_bar = abacus_bar + 'x'`\n",
    "        - `print(abacus_bar)`\n",
    "- Put a call to clear the screen in the right place in your code, and you will have a nice simple abacus app.\n",
    "- **Bonus:** Make a more complicated abacus, and make your abacus work in different bases."
   ]
  },
  {
   "cell_type": "markdown",
   "metadata": {},
   "source": [
    "[top](#)"
   ]
  },
  {
   "cell_type": "markdown",
   "metadata": {},
   "source": [
    "- - -\n",
    "[Previous: While Loops and Input](http://nbviewer.ipython.org/urls/raw.github.com/ehmatthes/intro_programming/master/notebooks/while_input.ipynb) | \n",
    "[Home](http://nbviewer.ipython.org/urls/raw.github.com/ehmatthes/intro_programming/master/notebooks/index.ipynb) |\n",
    "[Next: Dictionaries](http://nbviewer.ipython.org/urls/raw.github.com/ehmatthes/intro_programming/master/notebooks/dictionaries.ipynb)"
   ]
  }
 ],
 "metadata": {
  "kernelspec": {
   "display_name": "Python 3",
   "language": "python",
   "name": "python3"
  },
  "language_info": {
   "codemirror_mode": {
    "name": "ipython",
    "version": 3
   },
   "file_extension": ".py",
   "mimetype": "text/x-python",
   "name": "python",
   "nbconvert_exporter": "python",
   "pygments_lexer": "ipython3",
   "version": "3.4.0"
  }
 },
 "nbformat": 4,
 "nbformat_minor": 0
}
